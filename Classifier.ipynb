{
 "cells": [
  {
   "cell_type": "code",
   "execution_count": 1,
   "metadata": {
    "id": "ri1_nWyobbfU"
   },
   "outputs": [],
   "source": [
    "import torch\n",
    "import torch.nn as nn\n",
    "import torch.optim as optim\n",
    "from torch.utils.data import DataLoader\n",
    "from torchvision import datasets, transforms\n",
    "\n",
    "device = torch.device('cuda' if torch.cuda.is_available() else 'cpu')"
   ]
  },
  {
   "cell_type": "markdown",
   "metadata": {
    "id": "XtsX7CIUbksp"
   },
   "source": [
    "Network"
   ]
  },
  {
   "cell_type": "code",
   "execution_count": 2,
   "metadata": {
    "id": "1lNCQcQxbk5C"
   },
   "outputs": [],
   "source": [
    "class Net(nn.Module):\n",
    "    def __init__(self):\n",
    "        super(Net, self).__init__()\n",
    "        self.conv1 = nn.Conv2d(3, 16, 3)\n",
    "        self.pool = nn.MaxPool2d(2, 2)\n",
    "        self.conv2 = nn.Conv2d(16, 32, 3)\n",
    "        self.fc1 = nn.Linear(81 * 32 * 6 * 6, 120)\n",
    "        self.fc2 = nn.Linear(120, 3)\n",
    "\n",
    "    def forward(self, x):\n",
    "        x = self.pool(nn.functional.relu(self.conv1(x)))\n",
    "#         print(x.shape)\n",
    "        x = self.pool(nn.functional.relu(self.conv2(x)))\n",
    "#         print(x.shape)\n",
    "        x = x.view(-1, 81 * 32 * 6 * 6)\n",
    "#         print(x.shape)\n",
    "        x = nn.functional.relu(self.fc1(x))\n",
    "#         print(x.shape)\n",
    "        x = self.fc2(x)        \n",
    "#         print(x.shape)\n",
    "        return x\n",
    "    \n",
    "    \n",
    "    \n",
    "    \n",
    "# class Net(nn.Module):\n",
    "#     def __init__(self):\n",
    "#         super(Net, self).__init__()\n",
    "#         self.conv1 = nn.Conv2d(3, 16, 3)\n",
    "#         self.pool = nn.MaxPool2d(2, 2)\n",
    "#         self.conv2 = nn.Conv2d(16, 32, 3)\n",
    "#         self.fc1 = nn.Linear(32 * 6 * 6, 120)\n",
    "#         self.fc2 = nn.Linear(120, 3)\n",
    "\n",
    "#     def forward(self, x):\n",
    "#         x = self.pool(nn.functional.relu(self.conv1(x)))\n",
    "#         print(x.shape)\n",
    "#         x = self.pool(nn.functional.relu(self.conv2(x)))\n",
    "#         print(x.shape)\n",
    "#         x = x.view(-1, 32 * 6 * 6)\n",
    "#         print(x.shape)\n",
    "#         x = nn.functional.relu(self.fc1(x))\n",
    "#         print(x.shape)\n",
    "#         x = self.fc2(x)        \n",
    "#         print(x.shape)\n",
    "#         return x"
   ]
  },
  {
   "cell_type": "markdown",
   "metadata": {
    "id": "zPJHi_VubmUS"
   },
   "source": [
    "Data loading\n",
    "\n"
   ]
  },
  {
   "cell_type": "code",
   "execution_count": 3,
   "metadata": {
    "id": "GcbNfJ0Ebz4l"
   },
   "outputs": [
    {
     "name": "stdout",
     "output_type": "stream",
     "text": [
      "240\n",
      "60\n"
     ]
    }
   ],
   "source": [
    "import torch\n",
    "from torch.utils.data import Dataset, DataLoader\n",
    "from torchvision import transforms\n",
    "from PIL import Image\n",
    "import cv2 \n",
    "import os\n",
    "import numpy as np\n",
    "\n",
    "\n",
    "def loadTrainData(train=False):\n",
    "    results=[]\n",
    "    numOfTrain = 80\n",
    "    numOfTest = 20\n",
    "\n",
    "    if train:\n",
    "        # Train\n",
    "        root_dir = \"C:/Users/asus/Desktop/clf/train/Bed/\"      \n",
    "\n",
    "        for index in range(numOfTrain):\n",
    "            im = Image.open(root_dir+f\"1 ({index+1}).jpg\")\n",
    "            results.append({'x': im, 'y': torch.tensor(0)})\n",
    "            \n",
    "        root_dir = \"C:/Users/asus/Desktop/clf/train/Chair/\"\n",
    "        for index in range(numOfTrain):\n",
    "            im = Image.open(root_dir+f\"1 ({index+1}).jpg\")\n",
    "            results.append({'x': im, 'y': torch.tensor(1)})\n",
    "        \n",
    "        root_dir = \"C:/Users/asus/Desktop/clf/train/Sofa/\"\n",
    "        for index in range(numOfTrain):\n",
    "            im = Image.open(root_dir+f\"1 ({index+1}).jpg\")\n",
    "            results.append({'x': im, 'y': torch.tensor(2)})\n",
    "        \n",
    "    else:\n",
    "        # Test\n",
    "        root_dir = \"C:/Users/asus/Desktop/clf/test/Bed/\"\n",
    "        for index in range(numOfTest):\n",
    "            im = Image.open(root_dir+f\"1 ({index+1}).jpg\")\n",
    "            results.append({'x': im, 'y': torch.tensor(0)})\n",
    "            \n",
    "        root_dir = \"C:/Users/asus/Desktop/clf/test/Chair/\"\n",
    "        for index in range(numOfTest):\n",
    "            im = Image.open(root_dir+f\"1 ({index+1}).jpg\")\n",
    "            results.append({'x': im, 'y': torch.tensor(1)})\n",
    "        \n",
    "        root_dir = \"C:/Users/asus/Desktop/clf/test/Sofa/\"\n",
    "        for index in range(numOfTest):\n",
    "            im = Image.open(root_dir+f\"1 ({index+1}).jpg\")\n",
    "            results.append({'x': im, 'y': torch.tensor(2)})\n",
    "\n",
    "    print(len(results))\n",
    "    return results\n",
    "    \n",
    "\n",
    "\n",
    "\n",
    "class CustomDataset(Dataset):\n",
    "    def __init__(self, train=True, transform=None):\n",
    "\n",
    "        self.samples = loadTrainData(train=train)\n",
    "        self.transform = transform\n",
    "\n",
    "    def __len__(self):\n",
    "        return len(self.samples)\n",
    "\n",
    "    def __getitem__(self, index):\n",
    "        return self.transform(self.samples[index]['x']), self.samples[index]['y']\n",
    "\n",
    "\n",
    "\n",
    "train_transforms = transforms.Compose([\n",
    "    transforms.RandomResizedCrop(224),\n",
    "    transforms.RandomHorizontalFlip(),\n",
    "    transforms.ToTensor(),\n",
    "    transforms.Normalize([0.485, 0.456, 0.406], [0.229, 0.224, 0.225])\n",
    "])\n",
    "train_dataset = CustomDataset(train=True, transform=train_transforms)\n",
    "test_dataset = CustomDataset(train=False, transform=train_transforms)"
   ]
  },
  {
   "cell_type": "code",
   "execution_count": 4,
   "metadata": {},
   "outputs": [],
   "source": [
    "batch_size = 8\n",
    "train_loader = DataLoader(train_dataset, batch_size=batch_size, shuffle=True)\n",
    "test_loader = DataLoader(test_dataset, batch_size=batch_size, shuffle=True)"
   ]
  },
  {
   "cell_type": "markdown",
   "metadata": {
    "id": "yMIMNQTOcuwF"
   },
   "source": [
    "Function loss and optimizer"
   ]
  },
  {
   "cell_type": "code",
   "execution_count": 5,
   "metadata": {
    "id": "w1mLOxgwc0Jq"
   },
   "outputs": [],
   "source": [
    "net = Net().to(device)\n",
    "criterion = nn.CrossEntropyLoss()\n",
    "optimizer = optim.Adam(net.parameters(), lr=0.001)"
   ]
  },
  {
   "cell_type": "markdown",
   "metadata": {
    "id": "VXS_lKjlc4eS"
   },
   "source": [
    "Training and evaluation"
   ]
  },
  {
   "cell_type": "code",
   "execution_count": 6,
   "metadata": {
    "id": "26LH3Yiec8D3"
   },
   "outputs": [],
   "source": [
    "num_epochs = 50\n",
    "for epoch in range(num_epochs):\n",
    "    running_loss = 0.0\n",
    "    for (inputs, labels) in train_loader:\n",
    "        inputs, labels = inputs.to(device), labels.to(device)\n",
    "        optimizer.zero_grad()\n",
    "        outputs = net(inputs)    \n",
    "        loss = criterion(outputs, labels)\n",
    "        loss.backward()\n",
    "        optimizer.step()\n",
    "        running_loss += loss.item()\n",
    "\n"
   ]
  },
  {
   "cell_type": "code",
   "execution_count": 7,
   "metadata": {},
   "outputs": [
    {
     "name": "stdout",
     "output_type": "stream",
     "text": [
      "Epoch 50 - Training Loss: 0.5270397620896499, Test Accuracy: 0.78\n"
     ]
    }
   ],
   "source": [
    "modelPath = \"./model\"        \n",
    "torch.save(net, modelPath)\n",
    "correct = 0\n",
    "total = 0\n",
    "with torch.no_grad():\n",
    "    for inputs, labels in test_loader:\n",
    "        inputs, labels = inputs.to(device), labels.to(device)\n",
    "        outputs = net(inputs)\n",
    "        _, predicted = torch.max(outputs.data, 1)\n",
    "        total += labels.size(0)\n",
    "        correct += (predicted == labels).sum().item()\n",
    "\n",
    "test_accuracy = correct / total\n",
    "print(f'Epoch {epoch + 1} - Training Loss: {running_loss / len(train_loader)}, Test Accuracy: {test_accuracy:.2f}')"
   ]
  }
 ],
 "metadata": {
  "colab": {
   "provenance": []
  },
  "kernelspec": {
   "display_name": "Python 3 (ipykernel)",
   "language": "python",
   "name": "python3"
  },
  "language_info": {
   "codemirror_mode": {
    "name": "ipython",
    "version": 3
   },
   "file_extension": ".py",
   "mimetype": "text/x-python",
   "name": "python",
   "nbconvert_exporter": "python",
   "pygments_lexer": "ipython3",
   "version": "3.9.5"
  }
 },
 "nbformat": 4,
 "nbformat_minor": 1
}

{
 "cells": [
  {
   "cell_type": "code",
   "execution_count": null,
   "id": "fa9cde1f",
   "metadata": {},
   "outputs": [],
   "source": [
    "from flask import Flask, request, url_for, redirect, send_file, render_template,jsonify\n",
    "import os\n",
    "from PIL import Image"
   ]
  },
  {
   "cell_type": "markdown",
   "id": "c1b1f260",
   "metadata": {},
   "source": [
    "## Initializations"
   ]
  },
  {
   "cell_type": "code",
   "execution_count": null,
   "id": "711da45b",
   "metadata": {},
   "outputs": [],
   "source": [
    "app = Flask(__name__)   \n",
    "\n",
    "#to upload file\n",
    "UPLOAD_FOLDER = 'static/files'\n",
    "app.config['UPLOAD_FOLDER'] =  UPLOAD_FOLDER"
   ]
  },
  {
   "cell_type": "markdown",
   "id": "5d8a6f23",
   "metadata": {},
   "source": [
    "## Routing function configuration"
   ]
  },
  {
   "cell_type": "code",
   "execution_count": null,
   "id": "fb239061",
   "metadata": {},
   "outputs": [],
   "source": [
    "@app.route('/', methods = ['GET','POST'])\n",
    "\n",
    "def insert_data():\n",
    "\n",
    "    \n",
    "    if request.method == 'POST':\n",
    "\n",
    "#         data_password = request.form['data_password']\n",
    "#         trans_pass = request.form['password']\n",
    "\n",
    "        uploaded_file = request.files['file']\n",
    "\n",
    "#         if transaction_check(account_name,trans_pass):\n",
    "        if uploaded_file.filename.rsplit('.', 1)[1].lower()=='jpg' or uploaded_file.filename.rsplit('.', 1)[1].lower()=='png' or uploaded_file.filename.rsplit('.', 1)[1].lower()=='jpeg':\n",
    "            if uploaded_file.filename != '':\n",
    "                file_path = os.path.join(app.config['UPLOAD_FOLDER'], uploaded_file.filename)\n",
    "                # set the file path\n",
    "                uploaded_file.save(file_path)\n",
    "                im = Image.open(file_path)\n",
    "                # load the model\n",
    "                model = torch.load(\"../model_80.pt\")\n",
    "                model.eval()\n",
    "                # prediction\n",
    "                output = model(im)\n",
    "                _, predicted = torch.max(output.data, 1)\n",
    "                \n",
    "                return render_template('insert_data.html', message=f\"The image is a {predicted}\")\n",
    "                \n",
    "                \n",
    "            else:\n",
    "                return render_template('insert_data.html', message=\"The file does not have any name\") \n",
    "\n",
    "        else:\n",
    "            return render_template('insert_data.html', message=\"The file format is not JPG/PNG\")\n",
    "       \n",
    "#             render_template('insert_data.html')\n",
    "\n",
    "\n",
    "#         else:\n",
    "#             return render_template('insert_data.html', message=\"Wrong password\")\n",
    "\n",
    "        \n",
    "\n",
    "    return render_template('insert_data.html', message=\"Please upload your image\")"
   ]
  }
 ],
 "metadata": {
  "kernelspec": {
   "display_name": "Python 3 (ipykernel)",
   "language": "python",
   "name": "python3"
  },
  "language_info": {
   "codemirror_mode": {
    "name": "ipython",
    "version": 3
   },
   "file_extension": ".py",
   "mimetype": "text/x-python",
   "name": "python",
   "nbconvert_exporter": "python",
   "pygments_lexer": "ipython3",
   "version": "3.9.5"
  }
 },
 "nbformat": 4,
 "nbformat_minor": 5
}
